{
  "nbformat": 4,
  "nbformat_minor": 0,
  "metadata": {
    "colab": {
      "provenance": [],
      "include_colab_link": true
    },
    "kernelspec": {
      "name": "python3",
      "display_name": "Python 3"
    },
    "language_info": {
      "name": "python"
    }
  },
  "cells": [
    {
      "cell_type": "markdown",
      "metadata": {
        "id": "view-in-github",
        "colab_type": "text"
      },
      "source": [
        "<a href=\"https://colab.research.google.com/github/beepmo/gator/blob/main/data/07-25/La2_3_bc_gating.ipynb\" target=\"_parent\"><img src=\"https://colab.research.google.com/assets/colab-badge.svg\" alt=\"Open In Colab\"/></a>"
      ]
    },
    {
      "cell_type": "code",
      "execution_count": 1,
      "metadata": {
        "id": "AWBYGcHySy7l"
      },
      "outputs": [],
      "source": [
        "import numpy as np\n",
        "import pandas as pd\n",
        "from matplotlib import pyplot as plt\n",
        "from google.colab import userdata\n",
        "import plotly.express as px\n"
      ]
    },
    {
      "cell_type": "markdown",
      "source": [
        "# 1. Set up project in runtime\n",
        "Create colab secrets for the following credentials for the repo to get runtime files and clone repo"
      ],
      "metadata": {
        "id": "almV3l3nTKlB"
      }
    },
    {
      "cell_type": "code",
      "source": [
        "!git config --global user.email {userdata.get('email')}\n",
        "!git config --global user.name {userdata.get('name')}\n",
        "!git clone https://{userdata.get('token')}@github.com/beepmo/gator\n",
        "%pwd"
      ],
      "metadata": {
        "colab": {
          "base_uri": "https://localhost:8080/",
          "height": 178
        },
        "id": "3EcIHq09TH7l",
        "outputId": "20528eb0-6599-4ffe-89c7-4522b8501459"
      },
      "execution_count": 2,
      "outputs": [
        {
          "output_type": "stream",
          "name": "stdout",
          "text": [
            "Cloning into 'gator'...\n",
            "remote: Enumerating objects: 1120, done.\u001b[K\n",
            "remote: Counting objects: 100% (410/410), done.\u001b[K\n",
            "remote: Compressing objects: 100% (230/230), done.\u001b[K\n",
            "remote: Total 1120 (delta 259), reused 274 (delta 175), pack-reused 710\u001b[K\n",
            "Receiving objects: 100% (1120/1120), 65.28 MiB | 22.04 MiB/s, done.\n",
            "Resolving deltas: 100% (628/628), done.\n",
            "Updating files: 100% (150/150), done.\n"
          ]
        },
        {
          "output_type": "execute_result",
          "data": {
            "text/plain": [
              "'/content'"
            ],
            "application/vnd.google.colaboratory.intrinsic+json": {
              "type": "string"
            }
          },
          "metadata": {},
          "execution_count": 2
        }
      ]
    },
    {
      "cell_type": "markdown",
      "source": [
        "### 24-07-25 La2/3-b gating\n",
        "\n",
        "Gate voltage parameters :\n",
        "- Amp : 1Vpp\n",
        "- Offset : 500 mV\n",
        "- Duty Cycle : 1%\n",
        "\n",
        "Trying to tap off the gating electrode\n",
        "\n"
      ],
      "metadata": {
        "id": "CH4eoOiqfNoW"
      }
    },
    {
      "cell_type": "code",
      "source": [
        "%cd \"/content/gator/data/07-25/\""
      ],
      "metadata": {
        "colab": {
          "base_uri": "https://localhost:8080/"
        },
        "id": "HEBNyHSBaYGJ",
        "outputId": "952a6780-f34e-43d3-bb20-fded06a223cd"
      },
      "execution_count": 3,
      "outputs": [
        {
          "output_type": "stream",
          "name": "stdout",
          "text": [
            "/content/gator/data/07-25\n"
          ]
        }
      ]
    },
    {
      "cell_type": "code",
      "source": [
        "# prompt: delete first 8 lines from full_buffer.csv\n",
        "\n",
        "def prep_csv(filename):\n",
        "\n",
        "  # Read the full buffer into a list of lines\n",
        "  with open(filename, 'r') as f:\n",
        "    lines = f.readlines()\n",
        "\n",
        "  # print base time\n",
        "  print(lines[2])\n",
        "\n",
        "  # Delete the first 8 lines\n",
        "  lines = lines[8:]\n",
        "\n",
        "  # Write the remaining lines back to the file\n",
        "  with open(filename, 'w') as f:\n",
        "    f.writelines(lines)"
      ],
      "metadata": {
        "id": "w-4BzqDdiSTE"
      },
      "execution_count": 4,
      "outputs": []
    },
    {
      "cell_type": "code",
      "source": [
        "prep_csv('defbuffer1_0725_102454.csv')\n",
        "df = pd.read_csv('defbuffer1_0725_102454.csv')\n"
      ],
      "metadata": {
        "id": "LehKSIvrXey3",
        "colab": {
          "base_uri": "https://localhost:8080/"
        },
        "outputId": "167c9e1a-2585-45a8-9fbf-2eb71c3dd01f"
      },
      "execution_count": 5,
      "outputs": [
        {
          "output_type": "stream",
          "name": "stdout",
          "text": [
            "Fill Mode,1\n",
            "\n"
          ]
        }
      ]
    },
    {
      "cell_type": "code",
      "source": [
        "df"
      ],
      "metadata": {
        "id": "5l0KP5PG3Z1n",
        "outputId": "b465bc59-9310-4bd3-e346-18297a17face",
        "colab": {
          "base_uri": "https://localhost:8080/",
          "height": 635
        }
      },
      "execution_count": 6,
      "outputs": [
        {
          "output_type": "execute_result",
          "data": {
            "text/plain": [
              "        Reading    Unit  Range Digits  Disp Digits Math Start Group  \\\n",
              "0      0.008821  Amp DC          0.01          5.5    F           F   \n",
              "1      0.008821  Amp DC          0.01          5.5    F           F   \n",
              "2      0.008822  Amp DC          0.01          5.5    F           F   \n",
              "3      0.008822  Amp DC          0.01          5.5    F           F   \n",
              "4      0.008822  Amp DC          0.01          5.5    F           F   \n",
              "...         ...     ...           ...          ...  ...         ...   \n",
              "12760  0.008950  Amp DC          0.01          5.5    F           F   \n",
              "12761  0.008950  Amp DC          0.01          5.5    F           F   \n",
              "12762  0.008950  Amp DC          0.01          5.5    F           F   \n",
              "12763  0.008950  Amp DC          0.01          5.5    F           F   \n",
              "12764  0.008950  Amp DC          0.01          5.5    F           F   \n",
              "\n",
              "      Limit1 High Limit1 Low Limit2 High Limit2 Low  ... Questionable Origin  \\\n",
              "0               F          F           F          F  ...            F   Main   \n",
              "1               F          F           F          F  ...            F   Main   \n",
              "2               F          F           F          F  ...            F   Main   \n",
              "3               F          F           F          F  ...            F   Main   \n",
              "4               F          F           F          F  ...            F   Main   \n",
              "...           ...        ...         ...        ...  ...          ...    ...   \n",
              "12760           F          F           F          F  ...            F   Main   \n",
              "12761           F          F           F          F  ...            F   Main   \n",
              "12762           F          F           F          F  ...            F   Main   \n",
              "12763           F          F           F          F  ...            F   Main   \n",
              "12764           F          F           F          F  ...            F   Main   \n",
              "\n",
              "          Value   Unit.1 Digits  Output Sense Source Limit Overtemp  \\\n",
              "0      0.999958  Volt DC      1       T    2W            F        F   \n",
              "1      0.999958  Volt DC      1       T    2W            F        F   \n",
              "2      0.999957  Volt DC      1       T    2W            F        F   \n",
              "3      0.999958  Volt DC      1       T    2W            F        F   \n",
              "4      0.999958  Volt DC      1       T    2W            F        F   \n",
              "...         ...      ...    ...     ...   ...          ...      ...   \n",
              "12760  0.999950  Volt DC      1       T    2W            F        F   \n",
              "12761  0.999951  Volt DC      1       T    2W            F        F   \n",
              "12762  0.999951  Volt DC      1       T    2W            F        F   \n",
              "12763  0.999952  Volt DC      1       T    2W            F        F   \n",
              "12764  0.999951  Volt DC      1       T    2W            F        F   \n",
              "\n",
              "      Relative Time  \n",
              "0          0.000000  \n",
              "1          0.069404  \n",
              "2          0.138750  \n",
              "3          0.208103  \n",
              "4          0.277439  \n",
              "...             ...  \n",
              "12760    885.522324  \n",
              "12761    885.591692  \n",
              "12762    885.661033  \n",
              "12763    885.730395  \n",
              "12764    885.799748  \n",
              "\n",
              "[12765 rows x 21 columns]"
            ],
            "text/html": [
              "\n",
              "  <div id=\"df-3aa2d703-d25a-4e23-aff4-50a4821c1492\" class=\"colab-df-container\">\n",
              "    <div>\n",
              "<style scoped>\n",
              "    .dataframe tbody tr th:only-of-type {\n",
              "        vertical-align: middle;\n",
              "    }\n",
              "\n",
              "    .dataframe tbody tr th {\n",
              "        vertical-align: top;\n",
              "    }\n",
              "\n",
              "    .dataframe thead th {\n",
              "        text-align: right;\n",
              "    }\n",
              "</style>\n",
              "<table border=\"1\" class=\"dataframe\">\n",
              "  <thead>\n",
              "    <tr style=\"text-align: right;\">\n",
              "      <th></th>\n",
              "      <th>Reading</th>\n",
              "      <th>Unit</th>\n",
              "      <th>Range Digits</th>\n",
              "      <th>Disp Digits</th>\n",
              "      <th>Math</th>\n",
              "      <th>Start Group</th>\n",
              "      <th>Limit1 High</th>\n",
              "      <th>Limit1 Low</th>\n",
              "      <th>Limit2 High</th>\n",
              "      <th>Limit2 Low</th>\n",
              "      <th>...</th>\n",
              "      <th>Questionable</th>\n",
              "      <th>Origin</th>\n",
              "      <th>Value</th>\n",
              "      <th>Unit.1</th>\n",
              "      <th>Digits</th>\n",
              "      <th>Output</th>\n",
              "      <th>Sense</th>\n",
              "      <th>Source Limit</th>\n",
              "      <th>Overtemp</th>\n",
              "      <th>Relative Time</th>\n",
              "    </tr>\n",
              "  </thead>\n",
              "  <tbody>\n",
              "    <tr>\n",
              "      <th>0</th>\n",
              "      <td>0.008821</td>\n",
              "      <td>Amp DC</td>\n",
              "      <td>0.01</td>\n",
              "      <td>5.5</td>\n",
              "      <td>F</td>\n",
              "      <td>F</td>\n",
              "      <td>F</td>\n",
              "      <td>F</td>\n",
              "      <td>F</td>\n",
              "      <td>F</td>\n",
              "      <td>...</td>\n",
              "      <td>F</td>\n",
              "      <td>Main</td>\n",
              "      <td>0.999958</td>\n",
              "      <td>Volt DC</td>\n",
              "      <td>1</td>\n",
              "      <td>T</td>\n",
              "      <td>2W</td>\n",
              "      <td>F</td>\n",
              "      <td>F</td>\n",
              "      <td>0.000000</td>\n",
              "    </tr>\n",
              "    <tr>\n",
              "      <th>1</th>\n",
              "      <td>0.008821</td>\n",
              "      <td>Amp DC</td>\n",
              "      <td>0.01</td>\n",
              "      <td>5.5</td>\n",
              "      <td>F</td>\n",
              "      <td>F</td>\n",
              "      <td>F</td>\n",
              "      <td>F</td>\n",
              "      <td>F</td>\n",
              "      <td>F</td>\n",
              "      <td>...</td>\n",
              "      <td>F</td>\n",
              "      <td>Main</td>\n",
              "      <td>0.999958</td>\n",
              "      <td>Volt DC</td>\n",
              "      <td>1</td>\n",
              "      <td>T</td>\n",
              "      <td>2W</td>\n",
              "      <td>F</td>\n",
              "      <td>F</td>\n",
              "      <td>0.069404</td>\n",
              "    </tr>\n",
              "    <tr>\n",
              "      <th>2</th>\n",
              "      <td>0.008822</td>\n",
              "      <td>Amp DC</td>\n",
              "      <td>0.01</td>\n",
              "      <td>5.5</td>\n",
              "      <td>F</td>\n",
              "      <td>F</td>\n",
              "      <td>F</td>\n",
              "      <td>F</td>\n",
              "      <td>F</td>\n",
              "      <td>F</td>\n",
              "      <td>...</td>\n",
              "      <td>F</td>\n",
              "      <td>Main</td>\n",
              "      <td>0.999957</td>\n",
              "      <td>Volt DC</td>\n",
              "      <td>1</td>\n",
              "      <td>T</td>\n",
              "      <td>2W</td>\n",
              "      <td>F</td>\n",
              "      <td>F</td>\n",
              "      <td>0.138750</td>\n",
              "    </tr>\n",
              "    <tr>\n",
              "      <th>3</th>\n",
              "      <td>0.008822</td>\n",
              "      <td>Amp DC</td>\n",
              "      <td>0.01</td>\n",
              "      <td>5.5</td>\n",
              "      <td>F</td>\n",
              "      <td>F</td>\n",
              "      <td>F</td>\n",
              "      <td>F</td>\n",
              "      <td>F</td>\n",
              "      <td>F</td>\n",
              "      <td>...</td>\n",
              "      <td>F</td>\n",
              "      <td>Main</td>\n",
              "      <td>0.999958</td>\n",
              "      <td>Volt DC</td>\n",
              "      <td>1</td>\n",
              "      <td>T</td>\n",
              "      <td>2W</td>\n",
              "      <td>F</td>\n",
              "      <td>F</td>\n",
              "      <td>0.208103</td>\n",
              "    </tr>\n",
              "    <tr>\n",
              "      <th>4</th>\n",
              "      <td>0.008822</td>\n",
              "      <td>Amp DC</td>\n",
              "      <td>0.01</td>\n",
              "      <td>5.5</td>\n",
              "      <td>F</td>\n",
              "      <td>F</td>\n",
              "      <td>F</td>\n",
              "      <td>F</td>\n",
              "      <td>F</td>\n",
              "      <td>F</td>\n",
              "      <td>...</td>\n",
              "      <td>F</td>\n",
              "      <td>Main</td>\n",
              "      <td>0.999958</td>\n",
              "      <td>Volt DC</td>\n",
              "      <td>1</td>\n",
              "      <td>T</td>\n",
              "      <td>2W</td>\n",
              "      <td>F</td>\n",
              "      <td>F</td>\n",
              "      <td>0.277439</td>\n",
              "    </tr>\n",
              "    <tr>\n",
              "      <th>...</th>\n",
              "      <td>...</td>\n",
              "      <td>...</td>\n",
              "      <td>...</td>\n",
              "      <td>...</td>\n",
              "      <td>...</td>\n",
              "      <td>...</td>\n",
              "      <td>...</td>\n",
              "      <td>...</td>\n",
              "      <td>...</td>\n",
              "      <td>...</td>\n",
              "      <td>...</td>\n",
              "      <td>...</td>\n",
              "      <td>...</td>\n",
              "      <td>...</td>\n",
              "      <td>...</td>\n",
              "      <td>...</td>\n",
              "      <td>...</td>\n",
              "      <td>...</td>\n",
              "      <td>...</td>\n",
              "      <td>...</td>\n",
              "      <td>...</td>\n",
              "    </tr>\n",
              "    <tr>\n",
              "      <th>12760</th>\n",
              "      <td>0.008950</td>\n",
              "      <td>Amp DC</td>\n",
              "      <td>0.01</td>\n",
              "      <td>5.5</td>\n",
              "      <td>F</td>\n",
              "      <td>F</td>\n",
              "      <td>F</td>\n",
              "      <td>F</td>\n",
              "      <td>F</td>\n",
              "      <td>F</td>\n",
              "      <td>...</td>\n",
              "      <td>F</td>\n",
              "      <td>Main</td>\n",
              "      <td>0.999950</td>\n",
              "      <td>Volt DC</td>\n",
              "      <td>1</td>\n",
              "      <td>T</td>\n",
              "      <td>2W</td>\n",
              "      <td>F</td>\n",
              "      <td>F</td>\n",
              "      <td>885.522324</td>\n",
              "    </tr>\n",
              "    <tr>\n",
              "      <th>12761</th>\n",
              "      <td>0.008950</td>\n",
              "      <td>Amp DC</td>\n",
              "      <td>0.01</td>\n",
              "      <td>5.5</td>\n",
              "      <td>F</td>\n",
              "      <td>F</td>\n",
              "      <td>F</td>\n",
              "      <td>F</td>\n",
              "      <td>F</td>\n",
              "      <td>F</td>\n",
              "      <td>...</td>\n",
              "      <td>F</td>\n",
              "      <td>Main</td>\n",
              "      <td>0.999951</td>\n",
              "      <td>Volt DC</td>\n",
              "      <td>1</td>\n",
              "      <td>T</td>\n",
              "      <td>2W</td>\n",
              "      <td>F</td>\n",
              "      <td>F</td>\n",
              "      <td>885.591692</td>\n",
              "    </tr>\n",
              "    <tr>\n",
              "      <th>12762</th>\n",
              "      <td>0.008950</td>\n",
              "      <td>Amp DC</td>\n",
              "      <td>0.01</td>\n",
              "      <td>5.5</td>\n",
              "      <td>F</td>\n",
              "      <td>F</td>\n",
              "      <td>F</td>\n",
              "      <td>F</td>\n",
              "      <td>F</td>\n",
              "      <td>F</td>\n",
              "      <td>...</td>\n",
              "      <td>F</td>\n",
              "      <td>Main</td>\n",
              "      <td>0.999951</td>\n",
              "      <td>Volt DC</td>\n",
              "      <td>1</td>\n",
              "      <td>T</td>\n",
              "      <td>2W</td>\n",
              "      <td>F</td>\n",
              "      <td>F</td>\n",
              "      <td>885.661033</td>\n",
              "    </tr>\n",
              "    <tr>\n",
              "      <th>12763</th>\n",
              "      <td>0.008950</td>\n",
              "      <td>Amp DC</td>\n",
              "      <td>0.01</td>\n",
              "      <td>5.5</td>\n",
              "      <td>F</td>\n",
              "      <td>F</td>\n",
              "      <td>F</td>\n",
              "      <td>F</td>\n",
              "      <td>F</td>\n",
              "      <td>F</td>\n",
              "      <td>...</td>\n",
              "      <td>F</td>\n",
              "      <td>Main</td>\n",
              "      <td>0.999952</td>\n",
              "      <td>Volt DC</td>\n",
              "      <td>1</td>\n",
              "      <td>T</td>\n",
              "      <td>2W</td>\n",
              "      <td>F</td>\n",
              "      <td>F</td>\n",
              "      <td>885.730395</td>\n",
              "    </tr>\n",
              "    <tr>\n",
              "      <th>12764</th>\n",
              "      <td>0.008950</td>\n",
              "      <td>Amp DC</td>\n",
              "      <td>0.01</td>\n",
              "      <td>5.5</td>\n",
              "      <td>F</td>\n",
              "      <td>F</td>\n",
              "      <td>F</td>\n",
              "      <td>F</td>\n",
              "      <td>F</td>\n",
              "      <td>F</td>\n",
              "      <td>...</td>\n",
              "      <td>F</td>\n",
              "      <td>Main</td>\n",
              "      <td>0.999951</td>\n",
              "      <td>Volt DC</td>\n",
              "      <td>1</td>\n",
              "      <td>T</td>\n",
              "      <td>2W</td>\n",
              "      <td>F</td>\n",
              "      <td>F</td>\n",
              "      <td>885.799748</td>\n",
              "    </tr>\n",
              "  </tbody>\n",
              "</table>\n",
              "<p>12765 rows × 21 columns</p>\n",
              "</div>\n",
              "    <div class=\"colab-df-buttons\">\n",
              "\n",
              "  <div class=\"colab-df-container\">\n",
              "    <button class=\"colab-df-convert\" onclick=\"convertToInteractive('df-3aa2d703-d25a-4e23-aff4-50a4821c1492')\"\n",
              "            title=\"Convert this dataframe to an interactive table.\"\n",
              "            style=\"display:none;\">\n",
              "\n",
              "  <svg xmlns=\"http://www.w3.org/2000/svg\" height=\"24px\" viewBox=\"0 -960 960 960\">\n",
              "    <path d=\"M120-120v-720h720v720H120Zm60-500h600v-160H180v160Zm220 220h160v-160H400v160Zm0 220h160v-160H400v160ZM180-400h160v-160H180v160Zm440 0h160v-160H620v160ZM180-180h160v-160H180v160Zm440 0h160v-160H620v160Z\"/>\n",
              "  </svg>\n",
              "    </button>\n",
              "\n",
              "  <style>\n",
              "    .colab-df-container {\n",
              "      display:flex;\n",
              "      gap: 12px;\n",
              "    }\n",
              "\n",
              "    .colab-df-convert {\n",
              "      background-color: #E8F0FE;\n",
              "      border: none;\n",
              "      border-radius: 50%;\n",
              "      cursor: pointer;\n",
              "      display: none;\n",
              "      fill: #1967D2;\n",
              "      height: 32px;\n",
              "      padding: 0 0 0 0;\n",
              "      width: 32px;\n",
              "    }\n",
              "\n",
              "    .colab-df-convert:hover {\n",
              "      background-color: #E2EBFA;\n",
              "      box-shadow: 0px 1px 2px rgba(60, 64, 67, 0.3), 0px 1px 3px 1px rgba(60, 64, 67, 0.15);\n",
              "      fill: #174EA6;\n",
              "    }\n",
              "\n",
              "    .colab-df-buttons div {\n",
              "      margin-bottom: 4px;\n",
              "    }\n",
              "\n",
              "    [theme=dark] .colab-df-convert {\n",
              "      background-color: #3B4455;\n",
              "      fill: #D2E3FC;\n",
              "    }\n",
              "\n",
              "    [theme=dark] .colab-df-convert:hover {\n",
              "      background-color: #434B5C;\n",
              "      box-shadow: 0px 1px 3px 1px rgba(0, 0, 0, 0.15);\n",
              "      filter: drop-shadow(0px 1px 2px rgba(0, 0, 0, 0.3));\n",
              "      fill: #FFFFFF;\n",
              "    }\n",
              "  </style>\n",
              "\n",
              "    <script>\n",
              "      const buttonEl =\n",
              "        document.querySelector('#df-3aa2d703-d25a-4e23-aff4-50a4821c1492 button.colab-df-convert');\n",
              "      buttonEl.style.display =\n",
              "        google.colab.kernel.accessAllowed ? 'block' : 'none';\n",
              "\n",
              "      async function convertToInteractive(key) {\n",
              "        const element = document.querySelector('#df-3aa2d703-d25a-4e23-aff4-50a4821c1492');\n",
              "        const dataTable =\n",
              "          await google.colab.kernel.invokeFunction('convertToInteractive',\n",
              "                                                    [key], {});\n",
              "        if (!dataTable) return;\n",
              "\n",
              "        const docLinkHtml = 'Like what you see? Visit the ' +\n",
              "          '<a target=\"_blank\" href=https://colab.research.google.com/notebooks/data_table.ipynb>data table notebook</a>'\n",
              "          + ' to learn more about interactive tables.';\n",
              "        element.innerHTML = '';\n",
              "        dataTable['output_type'] = 'display_data';\n",
              "        await google.colab.output.renderOutput(dataTable, element);\n",
              "        const docLink = document.createElement('div');\n",
              "        docLink.innerHTML = docLinkHtml;\n",
              "        element.appendChild(docLink);\n",
              "      }\n",
              "    </script>\n",
              "  </div>\n",
              "\n",
              "\n",
              "<div id=\"df-c0386579-11fe-4263-9402-0afb98b567ab\">\n",
              "  <button class=\"colab-df-quickchart\" onclick=\"quickchart('df-c0386579-11fe-4263-9402-0afb98b567ab')\"\n",
              "            title=\"Suggest charts\"\n",
              "            style=\"display:none;\">\n",
              "\n",
              "<svg xmlns=\"http://www.w3.org/2000/svg\" height=\"24px\"viewBox=\"0 0 24 24\"\n",
              "     width=\"24px\">\n",
              "    <g>\n",
              "        <path d=\"M19 3H5c-1.1 0-2 .9-2 2v14c0 1.1.9 2 2 2h14c1.1 0 2-.9 2-2V5c0-1.1-.9-2-2-2zM9 17H7v-7h2v7zm4 0h-2V7h2v10zm4 0h-2v-4h2v4z\"/>\n",
              "    </g>\n",
              "</svg>\n",
              "  </button>\n",
              "\n",
              "<style>\n",
              "  .colab-df-quickchart {\n",
              "      --bg-color: #E8F0FE;\n",
              "      --fill-color: #1967D2;\n",
              "      --hover-bg-color: #E2EBFA;\n",
              "      --hover-fill-color: #174EA6;\n",
              "      --disabled-fill-color: #AAA;\n",
              "      --disabled-bg-color: #DDD;\n",
              "  }\n",
              "\n",
              "  [theme=dark] .colab-df-quickchart {\n",
              "      --bg-color: #3B4455;\n",
              "      --fill-color: #D2E3FC;\n",
              "      --hover-bg-color: #434B5C;\n",
              "      --hover-fill-color: #FFFFFF;\n",
              "      --disabled-bg-color: #3B4455;\n",
              "      --disabled-fill-color: #666;\n",
              "  }\n",
              "\n",
              "  .colab-df-quickchart {\n",
              "    background-color: var(--bg-color);\n",
              "    border: none;\n",
              "    border-radius: 50%;\n",
              "    cursor: pointer;\n",
              "    display: none;\n",
              "    fill: var(--fill-color);\n",
              "    height: 32px;\n",
              "    padding: 0;\n",
              "    width: 32px;\n",
              "  }\n",
              "\n",
              "  .colab-df-quickchart:hover {\n",
              "    background-color: var(--hover-bg-color);\n",
              "    box-shadow: 0 1px 2px rgba(60, 64, 67, 0.3), 0 1px 3px 1px rgba(60, 64, 67, 0.15);\n",
              "    fill: var(--button-hover-fill-color);\n",
              "  }\n",
              "\n",
              "  .colab-df-quickchart-complete:disabled,\n",
              "  .colab-df-quickchart-complete:disabled:hover {\n",
              "    background-color: var(--disabled-bg-color);\n",
              "    fill: var(--disabled-fill-color);\n",
              "    box-shadow: none;\n",
              "  }\n",
              "\n",
              "  .colab-df-spinner {\n",
              "    border: 2px solid var(--fill-color);\n",
              "    border-color: transparent;\n",
              "    border-bottom-color: var(--fill-color);\n",
              "    animation:\n",
              "      spin 1s steps(1) infinite;\n",
              "  }\n",
              "\n",
              "  @keyframes spin {\n",
              "    0% {\n",
              "      border-color: transparent;\n",
              "      border-bottom-color: var(--fill-color);\n",
              "      border-left-color: var(--fill-color);\n",
              "    }\n",
              "    20% {\n",
              "      border-color: transparent;\n",
              "      border-left-color: var(--fill-color);\n",
              "      border-top-color: var(--fill-color);\n",
              "    }\n",
              "    30% {\n",
              "      border-color: transparent;\n",
              "      border-left-color: var(--fill-color);\n",
              "      border-top-color: var(--fill-color);\n",
              "      border-right-color: var(--fill-color);\n",
              "    }\n",
              "    40% {\n",
              "      border-color: transparent;\n",
              "      border-right-color: var(--fill-color);\n",
              "      border-top-color: var(--fill-color);\n",
              "    }\n",
              "    60% {\n",
              "      border-color: transparent;\n",
              "      border-right-color: var(--fill-color);\n",
              "    }\n",
              "    80% {\n",
              "      border-color: transparent;\n",
              "      border-right-color: var(--fill-color);\n",
              "      border-bottom-color: var(--fill-color);\n",
              "    }\n",
              "    90% {\n",
              "      border-color: transparent;\n",
              "      border-bottom-color: var(--fill-color);\n",
              "    }\n",
              "  }\n",
              "</style>\n",
              "\n",
              "  <script>\n",
              "    async function quickchart(key) {\n",
              "      const quickchartButtonEl =\n",
              "        document.querySelector('#' + key + ' button');\n",
              "      quickchartButtonEl.disabled = true;  // To prevent multiple clicks.\n",
              "      quickchartButtonEl.classList.add('colab-df-spinner');\n",
              "      try {\n",
              "        const charts = await google.colab.kernel.invokeFunction(\n",
              "            'suggestCharts', [key], {});\n",
              "      } catch (error) {\n",
              "        console.error('Error during call to suggestCharts:', error);\n",
              "      }\n",
              "      quickchartButtonEl.classList.remove('colab-df-spinner');\n",
              "      quickchartButtonEl.classList.add('colab-df-quickchart-complete');\n",
              "    }\n",
              "    (() => {\n",
              "      let quickchartButtonEl =\n",
              "        document.querySelector('#df-c0386579-11fe-4263-9402-0afb98b567ab button');\n",
              "      quickchartButtonEl.style.display =\n",
              "        google.colab.kernel.accessAllowed ? 'block' : 'none';\n",
              "    })();\n",
              "  </script>\n",
              "</div>\n",
              "\n",
              "  <div id=\"id_4d04e4a6-06be-44d2-878e-c4c3449941e8\">\n",
              "    <style>\n",
              "      .colab-df-generate {\n",
              "        background-color: #E8F0FE;\n",
              "        border: none;\n",
              "        border-radius: 50%;\n",
              "        cursor: pointer;\n",
              "        display: none;\n",
              "        fill: #1967D2;\n",
              "        height: 32px;\n",
              "        padding: 0 0 0 0;\n",
              "        width: 32px;\n",
              "      }\n",
              "\n",
              "      .colab-df-generate:hover {\n",
              "        background-color: #E2EBFA;\n",
              "        box-shadow: 0px 1px 2px rgba(60, 64, 67, 0.3), 0px 1px 3px 1px rgba(60, 64, 67, 0.15);\n",
              "        fill: #174EA6;\n",
              "      }\n",
              "\n",
              "      [theme=dark] .colab-df-generate {\n",
              "        background-color: #3B4455;\n",
              "        fill: #D2E3FC;\n",
              "      }\n",
              "\n",
              "      [theme=dark] .colab-df-generate:hover {\n",
              "        background-color: #434B5C;\n",
              "        box-shadow: 0px 1px 3px 1px rgba(0, 0, 0, 0.15);\n",
              "        filter: drop-shadow(0px 1px 2px rgba(0, 0, 0, 0.3));\n",
              "        fill: #FFFFFF;\n",
              "      }\n",
              "    </style>\n",
              "    <button class=\"colab-df-generate\" onclick=\"generateWithVariable('df')\"\n",
              "            title=\"Generate code using this dataframe.\"\n",
              "            style=\"display:none;\">\n",
              "\n",
              "  <svg xmlns=\"http://www.w3.org/2000/svg\" height=\"24px\"viewBox=\"0 0 24 24\"\n",
              "       width=\"24px\">\n",
              "    <path d=\"M7,19H8.4L18.45,9,17,7.55,7,17.6ZM5,21V16.75L18.45,3.32a2,2,0,0,1,2.83,0l1.4,1.43a1.91,1.91,0,0,1,.58,1.4,1.91,1.91,0,0,1-.58,1.4L9.25,21ZM18.45,9,17,7.55Zm-12,3A5.31,5.31,0,0,0,4.9,8.1,5.31,5.31,0,0,0,1,6.5,5.31,5.31,0,0,0,4.9,4.9,5.31,5.31,0,0,0,6.5,1,5.31,5.31,0,0,0,8.1,4.9,5.31,5.31,0,0,0,12,6.5,5.46,5.46,0,0,0,6.5,12Z\"/>\n",
              "  </svg>\n",
              "    </button>\n",
              "    <script>\n",
              "      (() => {\n",
              "      const buttonEl =\n",
              "        document.querySelector('#id_4d04e4a6-06be-44d2-878e-c4c3449941e8 button.colab-df-generate');\n",
              "      buttonEl.style.display =\n",
              "        google.colab.kernel.accessAllowed ? 'block' : 'none';\n",
              "\n",
              "      buttonEl.onclick = () => {\n",
              "        google.colab.notebook.generateWithVariable('df');\n",
              "      }\n",
              "      })();\n",
              "    </script>\n",
              "  </div>\n",
              "\n",
              "    </div>\n",
              "  </div>\n"
            ],
            "application/vnd.google.colaboratory.intrinsic+json": {
              "type": "dataframe",
              "variable_name": "df"
            }
          },
          "metadata": {},
          "execution_count": 6
        }
      ]
    },
    {
      "cell_type": "code",
      "source": [
        "# Time (s)\n",
        "T = df['Relative Time']\n",
        "\n",
        "# Current (nA)\n",
        "I = df['Reading'] * 1e15\n",
        "\n",
        "# Potential (mV)\n",
        "V = df['Value'] * 1e3"
      ],
      "metadata": {
        "id": "RLth_hAFacpu"
      },
      "execution_count": 21,
      "outputs": []
    },
    {
      "cell_type": "code",
      "source": [
        "cut1 = 1500\n",
        "cut2 = 3000\n",
        "plt.plot(T[cut1:cut2],I[cut1:cut2],'.')\n",
        "plt.ylabel('Current (nA)')\n",
        "plt.xlabel('Time (s)')"
      ],
      "metadata": {
        "id": "pYOa0UrfUKv8",
        "outputId": "4a2a3706-5a37-4dc2-8d04-b6829c3258f7",
        "colab": {
          "base_uri": "https://localhost:8080/",
          "height": 483
        }
      },
      "execution_count": 22,
      "outputs": [
        {
          "output_type": "execute_result",
          "data": {
            "text/plain": [
              "Text(0.5, 0, 'Time (s)')"
            ]
          },
          "metadata": {},
          "execution_count": 22
        },
        {
          "output_type": "display_data",
          "data": {
            "text/plain": [
              "<Figure size 640x480 with 1 Axes>"
            ],
            "image/png": "[encoded data removed]"
          },
          "metadata": {}
        }
      ]
    },
    {
      "cell_type": "code",
      "source": [
        "cut1 = 0\n",
        "cut2 = None  # Set to None to include the entire array\n",
        "plt.plot(T[cut1:cut2], V[cut1:cut2], '.')\n",
        "plt.ylabel('Voltage (mV)')\n",
        "plt.xlabel('Time (s)')\n",
        "plt.show()"
      ],
      "metadata": {
        "id": "YF-gjL6KWo6D",
        "outputId": "e6b9850d-2e2d-4bee-b8c5-4614fe2b06c5",
        "colab": {
          "base_uri": "https://localhost:8080/",
          "height": 465
        }
      },
      "execution_count": 16,
      "outputs": [
        {
          "output_type": "display_data",
          "data": {
            "text/plain": [
              "<Figure size 640x480 with 1 Axes>"
            ],
            "image/png": "[encoded data removed]"
          },
          "metadata": {}
        }
      ]
    },
    {
      "cell_type": "code",
      "source": [
        "prep_csv('defbuffer1_0725_103403.csv')\n",
        "df1 = pd.read_csv('defbuffer1_0725_103403.csv')\n"
      ],
      "metadata": {
        "id": "tnUIzx7tkuzN",
        "outputId": "1eb78fe0-ec38-4198-9cd1-fea58b211f07",
        "colab": {
          "base_uri": "https://localhost:8080/"
        }
      },
      "execution_count": 24,
      "outputs": [
        {
          "output_type": "stream",
          "name": "stdout",
          "text": [
            "0.01186534017324,Amp DC,.1,5.5,F,F,F,F,F,F,Front,F,Main,0.9999805092812,Volt DC,1,T,2W,F,F,0.069391840\n",
            "\n"
          ]
        }
      ]
    },
    {
      "cell_type": "code",
      "source": [
        "# Time (s)\n",
        "T = df['Relative Time']\n",
        "\n",
        "# Current (nA)\n",
        "I = df['Reading'] * 1e15\n",
        "\n",
        "# Potential (mV)\n",
        "V = df['Value'] * 1e3"
      ],
      "metadata": {
        "id": "3I71I6l-k2z7"
      },
      "execution_count": 25,
      "outputs": []
    },
    {
      "cell_type": "code",
      "source": [
        "cut1 = 1500\n",
        "cut2 = 3000\n",
        "plt.plot(T[cut1:cut2],I[cut1:cut2],'.')\n",
        "plt.ylabel('Current (nA)')\n",
        "plt.xlabel('Time (s)')"
      ],
      "metadata": {
        "id": "VnTfnutsk8Yk",
        "outputId": "f5d6c77a-4475-4c7d-b0bf-7642e8841fcc",
        "colab": {
          "base_uri": "https://localhost:8080/",
          "height": 483
        }
      },
      "execution_count": 28,
      "outputs": [
        {
          "output_type": "execute_result",
          "data": {
            "text/plain": [
              "Text(0.5, 0, 'Time (s)')"
            ]
          },
          "metadata": {},
          "execution_count": 28
        },
        {
          "output_type": "display_data",
          "data": {
            "text/plain": [
              "<Figure size 640x480 with 1 Axes>"
            ],
            "image/png": "[encoded data removed]"
          },
          "metadata": {}
        }
      ]
    },
    {
      "cell_type": "code",
      "source": [],
      "metadata": {
        "id": "zziEk6wDlHGb"
      },
      "execution_count": null,
      "outputs": []
    },
    {
      "cell_type": "code",
      "source": [
        "cut1 = 0\n",
        "cut2 = None  # Set to None to include the entire array\n",
        "plt.plot(T[cut1:cut2], V[cut1:cut2], '.')\n",
        "plt.ylabel('Voltage (mV)')\n",
        "plt.xlabel('Time (s)')\n",
        "plt.show()"
      ],
      "metadata": {
        "outputId": "3f87bafd-1a6e-446e-881b-dc8ed941dc0a",
        "colab": {
          "base_uri": "https://localhost:8080/",
          "height": 465
        },
        "id": "DI68skcUlHUI"
      },
      "execution_count": 27,
      "outputs": [
        {
          "output_type": "display_data",
          "data": {
            "text/plain": [
              "<Figure size 640x480 with 1 Axes>"
            ],
            "image/png": "[encoded data removed]"
          },
          "metadata": {}
        }
      ]
    }
  ]
}