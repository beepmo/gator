{
  "nbformat": 4,
  "nbformat_minor": 0,
  "metadata": {
    "colab": {
      "provenance": [],
      "include_colab_link": true
    },
    "kernelspec": {
      "name": "python3",
      "display_name": "Python 3"
    },
    "language_info": {
      "name": "python"
    }
  },
  "cells": [
    {
      "cell_type": "markdown",
      "metadata": {
        "id": "view-in-github",
        "colab_type": "text"
      },
      "source": [
        "<a href=\"https://colab.research.google.com/github/beepmo/gator/blob/main/data/06-27/litao3_gating.ipynb\" target=\"_parent\"><img src=\"https://colab.research.google.com/assets/colab-badge.svg\" alt=\"Open In Colab\"/></a>"
      ]
    },
    {
      "cell_type": "code",
      "execution_count": 1,
      "metadata": {
        "id": "AWBYGcHySy7l"
      },
      "outputs": [],
      "source": [
        "import numpy as np\n",
        "import pandas as pd\n",
        "from matplotlib import pyplot as plt\n",
        "from google.colab import userdata\n",
        "import plotly.express as px\n"
      ]
    },
    {
      "cell_type": "markdown",
      "source": [
        "# 1. Set up project in runtime\n",
        "Create colab secrets for the following credentials for the repo to get runtime files and clone repo"
      ],
      "metadata": {
        "id": "almV3l3nTKlB"
      }
    },
    {
      "cell_type": "code",
      "source": [
        "!git config --global user.email {userdata.get('email')}\n",
        "!git config --global user.name {userdata.get('name')}\n",
        "!git clone https://{userdata.get('token')}@github.com/beepmo/gator\n",
        "%pwd"
      ],
      "metadata": {
        "colab": {
          "base_uri": "https://localhost:8080/",
          "height": 194
        },
        "id": "3EcIHq09TH7l",
        "outputId": "ba8dc73b-e9d9-4932-e477-c67177c1e846"
      },
      "execution_count": 2,
      "outputs": [
        {
          "output_type": "stream",
          "name": "stdout",
          "text": [
            "Cloning into 'gator'...\n",
            "remote: Enumerating objects: 613, done.\u001b[K\n",
            "remote: Counting objects: 100% (416/416), done.\u001b[K\n",
            "remote: Compressing objects: 100% (273/273), done.\u001b[K\n",
            "remote: Total 613 (delta 216), reused 270 (delta 140), pack-reused 197\u001b[K\n",
            "Receiving objects: 100% (613/613), 28.13 MiB | 8.21 MiB/s, done.\n",
            "Resolving deltas: 100% (292/292), done.\n",
            "Updating files: 100% (71/71), done.\n"
          ]
        },
        {
          "output_type": "execute_result",
          "data": {
            "text/plain": [
              "'/content'"
            ],
            "application/vnd.google.colaboratory.intrinsic+json": {
              "type": "string"
            }
          },
          "metadata": {},
          "execution_count": 2
        }
      ]
    },
    {
      "cell_type": "markdown",
      "source": [
        "### 27-06-24 EIS on ungated and dry sample of LiTaO3\n",
        "\n"
      ],
      "metadata": {
        "id": "40yEei_BXarr"
      }
    },
    {
      "cell_type": "markdown",
      "source": [],
      "metadata": {
        "id": "CH4eoOiqfNoW"
      }
    },
    {
      "cell_type": "code",
      "source": [
        "%cd \"/content/gator/data/06-27/\""
      ],
      "metadata": {
        "colab": {
          "base_uri": "https://localhost:8080/"
        },
        "id": "HEBNyHSBaYGJ",
        "outputId": "763f83be-3418-4dd0-f74a-6771232a3690"
      },
      "execution_count": 3,
      "outputs": [
        {
          "output_type": "stream",
          "name": "stdout",
          "text": [
            "/content/gator/data/06-24\n"
          ]
        }
      ]
    },
    {
      "cell_type": "code",
      "source": [
        "# prompt: delete first 8 lines from full_buffer.csv\n",
        "\n",
        "def prep_csv(filename):\n",
        "\n",
        "  # Read the full buffer into a list of lines\n",
        "  with open(filename, 'r') as f:\n",
        "    lines = f.readlines()\n",
        "\n",
        "  # print base time\n",
        "  print(lines[2])\n",
        "\n",
        "  # Delete the first 8 lines\n",
        "  lines = lines[8:]\n",
        "\n",
        "  # Write the remaining lines back to the file\n",
        "  with open(filename, 'w') as f:\n",
        "    f.writelines(lines)"
      ],
      "metadata": {
        "id": "w-4BzqDdiSTE"
      },
      "execution_count": 4,
      "outputs": []
    },
    {
      "cell_type": "code",
      "source": [
        "freqs, Z = preprocessing.readZPlot('LiTao3_htol.z')\n",
        "freqs, Z = np.delete(freqs, 32), np.delete(Z, 32) # remove 1 noise point (argmin(Z.imag))\n",
        "\n",
        "circuit = 'p(R0-W0,C0)'\n",
        "init = [10**6, 10**-7, 10**-8]\n",
        "\n",
        "circuit = CustomCircuit(circuit, initial_guess=init)\n",
        "circuit.fit(freqs, Z)\n",
        "Z_fit = circuit.predict(freqs)\n",
        "\n",
        "plt.plot(Z.real, -Z.imag, 'o')\n",
        "plt.plot(Z_fit.real, -Z_fit.imag, '.')\n",
        "plt.ylabel('Imaginary')\n",
        "plt.xlabel('Real')\n",
        "plt.title('Nyquist')\n",
        "plt.show()\n",
        "\n",
        "plt.plot(freqs, -Z.imag, 'o')\n",
        "plt.plot(freqs, -Z_fit.imag, '.')\n",
        "plt.ylabel('Im(Z)')\n",
        "plt.xlabel('freq')\n",
        "plt.title('Bode')\n",
        "plt.show()\n",
        "\n",
        "plt.plot(freqs, Z.real, 'o')\n",
        "plt.plot(freqs, Z_fit.real, '.')\n",
        "plt.ylabel('Re(Z)')\n",
        "plt.xlabel('freq')\n",
        "plt.title('Bode')\n",
        "plt.show()"
      ],
      "metadata": {
        "id": "BhKJqJPyhRpU"
      },
      "execution_count": null,
      "outputs": []
    }
  ]
}