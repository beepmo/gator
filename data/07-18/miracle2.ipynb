{
  "nbformat": 4,
  "nbformat_minor": 0,
  "metadata": {
    "colab": {
      "provenance": [],
      "include_colab_link": true
    },
    "kernelspec": {
      "name": "python3",
      "display_name": "Python 3"
    },
    "language_info": {
      "name": "python"
    }
  },
  "cells": [
    {
      "cell_type": "markdown",
      "metadata": {
        "id": "view-in-github",
        "colab_type": "text"
      },
      "source": [
        "<a href=\"https://colab.research.google.com/github/beepmo/gator/blob/main/data/07-18/miracle2.ipynb\" target=\"_parent\"><img src=\"https://colab.research.google.com/assets/colab-badge.svg\" alt=\"Open In Colab\"/></a>"
      ]
    },
    {
      "cell_type": "code",
      "source": [
        "!pip install impedance -q\n"
      ],
      "metadata": {
        "id": "JwF65Dam-iJu",
        "outputId": "b679ec1a-2786-43fa-ee2e-cc341c5e46fb",
        "colab": {
          "base_uri": "https://localhost:8080/"
        }
      },
      "execution_count": null,
      "outputs": [
        {
          "output_type": "stream",
          "name": "stdout",
          "text": [
            "\u001b[?25l     \u001b[90m━━━━━━━━━━━━━━━━━━━━━━━━━━━━━━━━━━━━━━━━\u001b[0m \u001b[32m0.0/48.4 kB\u001b[0m \u001b[31m?\u001b[0m eta \u001b[36m-:--:--\u001b[0m\r\u001b[2K     \u001b[91m━━━━━━━━━━━━━━━━━━━━━━━━━━━━━━━━━\u001b[0m\u001b[91m╸\u001b[0m\u001b[90m━━━━━━\u001b[0m \u001b[32m41.0/48.4 kB\u001b[0m \u001b[31m2.3 MB/s\u001b[0m eta \u001b[36m0:00:01\u001b[0m\r\u001b[2K     \u001b[90m━━━━━━━━━━━━━━━━━━━━━━━━━━━━━━━━━━━━━━━━\u001b[0m \u001b[32m48.4/48.4 kB\u001b[0m \u001b[31m968.2 kB/s\u001b[0m eta \u001b[36m0:00:00\u001b[0m\n",
            "\u001b[?25h"
          ]
        }
      ]
    },
    {
      "cell_type": "code",
      "execution_count": null,
      "metadata": {
        "id": "AWBYGcHySy7l"
      },
      "outputs": [],
      "source": [
        "import numpy as np\n",
        "import pandas as pd\n",
        "from matplotlib import pyplot as plt\n",
        "from google.colab import userdata\n",
        "import plotly.express as px\n",
        "from impedance import preprocessing\n",
        "from impedance.models.circuits import CustomCircuit"
      ]
    },
    {
      "cell_type": "code",
      "source": [
        "!git config --global user.email {userdata.get('email')}\n",
        "!git config --global user.name {userdata.get('name')}\n",
        "!git clone https://{userdata.get('token')}@github.com/beepmo/gator\n",
        "%pwd"
      ],
      "metadata": {
        "id": "3EcIHq09TH7l"
      },
      "execution_count": null,
      "outputs": []
    },
    {
      "cell_type": "code",
      "source": [
        "%cd \"/content/gator/data/06-20/\""
      ],
      "metadata": {
        "id": "HEBNyHSBaYGJ"
      },
      "execution_count": null,
      "outputs": []
    },
    {
      "cell_type": "markdown",
      "source": [
        "# 20-06-24 LiTaO3 gating\n",
        "\n",
        "First part : measurement of the current without any gating nor liquid\n",
        "\n",
        "Seconde part : Adding IL without gating\n",
        "\n",
        "Then gating, electrode on, no gating voltage\n",
        "\n",
        "Finally : gating\n",
        "- Frequency : 0.1 Hz\n",
        "- Amplitude : 1 Vpp\n",
        "- Offset : 870 mV\n",
        "- Duty Cycle : 75%\n",
        "\n",
        "\n",
        "\n",
        "\n",
        "\n",
        "\n",
        "\n",
        "# Base Time\n",
        "06/20/2024 12:42:09"
      ],
      "metadata": {
        "id": "40yEei_BXarr"
      }
    },
    {
      "cell_type": "markdown",
      "source": [],
      "metadata": {
        "id": "CH4eoOiqfNoW"
      }
    },
    {
      "cell_type": "code",
      "source": [
        "# prompt: delete first 8 lines from full_buffer.csv\n",
        "\n",
        "def prep_csv(filename):\n",
        "\n",
        "  # Read the full buffer into a list of lines\n",
        "  with open(filename, 'r') as f:\n",
        "    lines = f.readlines()\n",
        "\n",
        "  # print base time\n",
        "  print(lines[2])\n",
        "\n",
        "  # Delete the first 8 lines\n",
        "  lines = lines[8:]\n",
        "\n",
        "  # Write the remaining lines back to the file\n",
        "  with open(filename, 'w') as f:\n",
        "    f.writelines(lines)"
      ],
      "metadata": {
        "id": "w-4BzqDdiSTE"
      },
      "execution_count": null,
      "outputs": []
    },
    {
      "cell_type": "code",
      "source": [
        "prep_csv('defbuffer1_0620_124209.csv')\n",
        "df = pd.read_csv('defbuffer1_0620_124209.csv')\n"
      ],
      "metadata": {
        "id": "LehKSIvrXey3"
      },
      "execution_count": null,
      "outputs": []
    },
    {
      "cell_type": "code",
      "source": [
        "df"
      ],
      "metadata": {
        "id": "5l0KP5PG3Z1n"
      },
      "execution_count": null,
      "outputs": []
    },
    {
      "cell_type": "code",
      "source": [
        "# Time (s)\n",
        "T = df['Relative Time']\n",
        "\n",
        "# Current (mA)\n",
        "I = df['Reading'] * 1e9\n",
        "\n",
        "# Potential (mV)\n",
        "V = df['Value'] * 1e3"
      ],
      "metadata": {
        "id": "RLth_hAFacpu"
      },
      "execution_count": null,
      "outputs": []
    },
    {
      "cell_type": "code",
      "source": [
        "cut1 = 0\n",
        "cut2 = 509\n",
        "plt.plot(T[cut1:cut2],I[cut1:cut2],'.')\n",
        "plt.ylabel('Current (nA)')\n",
        "plt.xlabel('Time (s)')"
      ],
      "metadata": {
        "id": "pYOa0UrfUKv8"
      },
      "execution_count": null,
      "outputs": []
    },
    {
      "cell_type": "markdown",
      "source": [
        "# Adding a drop of IL\n",
        "\n",
        "Signal is smoothed without increase in conductivity. We suspect this is due to ionic liquid shielding static charges.\n",
        "\n",
        "In the smoothed signal, we identify a signal with 10s period and 50% duty cycle. This corresponds to the square wave being output on the Keysight signal generator. Its output is connected to the PCB (`GND` and `GATE`). A copper strip goes off one side of the `GATE` pad but no LMO electrode is connected.\n",
        "\n",
        "Possible reasons for the `GATE` signal to show up in src-drn current:\n",
        "- `GND` is shifted by the Keysight generator signal.\n",
        "- Asymmetric voltage (through the resisting PCB) biases the SRC vs DRN voltage."
      ],
      "metadata": {
        "id": "pWYNTxlTs_yb"
      }
    },
    {
      "cell_type": "code",
      "source": [
        "# We can see the adding of IL\n",
        "\n",
        "cut1 = 510\n",
        "cut2 = 1131\n",
        "plt.plot(T[cut1:cut2],I[cut1:cut2],'.')\n",
        "plt.ylabel('Current (nA)')\n",
        "plt.xlabel('Time (s)')"
      ],
      "metadata": {
        "id": "0LAOjcoseWoQ"
      },
      "execution_count": null,
      "outputs": []
    },
    {
      "cell_type": "markdown",
      "source": [
        "# Installed gate, but touched DRN-SRC wires together\n",
        "\n",
        "Keithley limit 0.1mA is visible haha\n",
        "\n",
        "After the incident (first contact with LMO electrode?) drn-src current jumped from 1nA to 500nA."
      ],
      "metadata": {
        "id": "mKY6FGzduabt"
      }
    },
    {
      "cell_type": "code",
      "source": [
        "# Fixed voltage and beginning of gating, but with short cut\n",
        "\n",
        "cut1 = 1132\n",
        "cut2 = 14000\n",
        "plt.plot(T[cut1:cut2],I[cut1:cut2],'.')\n",
        "plt.ylabel('Current (nA)')\n",
        "plt.xlabel('Time (s)')"
      ],
      "metadata": {
        "id": "jX2YvMk1fEDw"
      },
      "execution_count": null,
      "outputs": []
    },
    {
      "cell_type": "markdown",
      "source": [
        "# Actual gating\n",
        "In between the gating, we changed the gating electrode placement, to obtain a stable open circuit voltage.\n",
        "\n",
        "In `px` plot it is clear that each gating attempt increases conductivity."
      ],
      "metadata": {
        "id": "O4GalcxkhRfT"
      }
    },
    {
      "cell_type": "code",
      "source": [
        "# Gating\n",
        "\n",
        "cut1 = 28678\n",
        "cut2 = len(T)\n",
        "plt.plot(T[cut1:cut2],I[cut1:cut2],'.')\n",
        "plt.ylabel('Current (nA)')\n",
        "plt.xlabel('Time (s)')"
      ],
      "metadata": {
        "id": "_04WbfmpgjIn"
      },
      "execution_count": null,
      "outputs": []
    },
    {
      "cell_type": "markdown",
      "source": [
        "Increase in conductivity with every gating cycle"
      ],
      "metadata": {
        "id": "o0S_hBuAi8Q2"
      }
    },
    {
      "cell_type": "code",
      "source": [
        "cut1 = 28678\n",
        "cut2 = len(T)\n",
        "plt.plot(T[cut1:cut2],V[cut1:cut2],'.')\n",
        "plt.ylabel('Voltage (mV)')\n",
        "plt.xlabel('Time (s)')"
      ],
      "metadata": {
        "id": "IM512aZMaeOS"
      },
      "execution_count": null,
      "outputs": []
    },
    {
      "cell_type": "code",
      "source": [
        "df_new = df[['Relative Time', 'Value', 'Reading']]\n",
        "df_new.loc[:, 'Reading'] = df_new['Reading'] * 1e9\n",
        "df_new.loc[:, 'Value'] = df_new['Value'] * 100\n",
        "df_new.rename(columns={'Reading': 'Current (nA)', 'Value': 'Vds (1e-2 V)'}, inplace=True)"
      ],
      "metadata": {
        "id": "o70Et25cPDLV"
      },
      "execution_count": null,
      "outputs": []
    },
    {
      "cell_type": "code",
      "source": [
        "# prompt: generately plotly express scatter plots of current and voltage over time from df_new\n",
        "\n",
        "# fig = px.scatter(df_new, x=\"Relative Time\", y=[\"Current (nA)\", \"Vds (1e-2 V)\"])\n",
        "fig = px.scatter(df_new, x=\"Relative Time\", y=[\"Current (nA)\"])\n",
        "fig.show()"
      ],
      "metadata": {
        "id": "IUjaHSqafaRz"
      },
      "execution_count": null,
      "outputs": []
    },
    {
      "cell_type": "code",
      "source": [
        "df_new = df[['Relative Time', 'Value', 'Reading']]\n",
        "df_new.loc[:, 'Reading'] = df_new['Reading'] * 1e9\n",
        "df_new.loc[:, 'Value'] = df_new['Value'] * 100\n",
        "df_new.rename(columns={'Reading': 'Current (nA)', 'Value': 'Vds (1e-2 V)'}, inplace=True)"
      ],
      "metadata": {
        "id": "ECDcz4m-bZK9"
      },
      "execution_count": null,
      "outputs": []
    },
    {
      "cell_type": "code",
      "source": [
        "# prompt: generately plotly express scatter plots of current and voltage over time from df_new\n",
        "\n",
        "# fig = px.scatter(df_new, x=\"Relative Time\", y=[\"Current (nA)\", \"Vds (1e-2 V)\"])\n",
        "fig = px.scatter(df_new, x=\"Relative Time\", y=[\"Vds (1e-2 V)\"])\n",
        "fig.show()"
      ],
      "metadata": {
        "id": "ex_zh-7bbduJ"
      },
      "execution_count": null,
      "outputs": []
    },
    {
      "cell_type": "markdown",
      "source": [
        "# EIS on gated sample\n",
        "\n"
      ],
      "metadata": {
        "id": "WLdHgmVZqIMt"
      }
    },
    {
      "cell_type": "markdown",
      "source": [
        "![image.png](data:image/png;base64,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)"
      ],
      "metadata": {
        "id": "c2RwgENRJjHZ"
      }
    },
    {
      "cell_type": "markdown",
      "source": [
        "## High to low sweep"
      ],
      "metadata": {
        "id": "HFVQtW_vJm5H"
      }
    },
    {
      "cell_type": "code",
      "source": [
        "freqs, Z = preprocessing.readZPlot('LiTao3_htol.z')\n",
        "freqs, Z = np.delete(freqs, 32), np.delete(Z, 32) # remove 1 noise point (argmin(Z.imag))\n",
        "\n",
        "circuit = 'p(R0-W0,C0)'\n",
        "init = [10**6, 10**-7, 10**-8]\n",
        "\n",
        "circuit = CustomCircuit(circuit, initial_guess=init)\n",
        "circuit.fit(freqs, Z)\n",
        "Z_fit = circuit.predict(freqs)\n",
        "\n",
        "plt.plot(Z.real, -Z.imag, 'o')\n",
        "plt.plot(Z_fit.real, -Z_fit.imag, '.')\n",
        "plt.ylabel('Imaginary')\n",
        "plt.xlabel('Real')\n",
        "plt.title('Nyquist')\n",
        "plt.show()\n",
        "\n",
        "plt.plot(freqs, -Z.imag, 'o')\n",
        "plt.plot(freqs, -Z_fit.imag, '.')\n",
        "plt.ylabel('Im(Z)')\n",
        "plt.xlabel('freq')\n",
        "plt.title('Bode')\n",
        "plt.show()\n",
        "\n",
        "plt.plot(freqs, Z.real, 'o')\n",
        "plt.plot(freqs, Z_fit.real, '.')\n",
        "plt.ylabel('Re(Z)')\n",
        "plt.xlabel('freq')\n",
        "plt.title('Bode')\n",
        "plt.show()"
      ],
      "metadata": {
        "id": "vI8M09uJqgxT"
      },
      "execution_count": null,
      "outputs": []
    },
    {
      "cell_type": "code",
      "source": [
        "print(circuit)"
      ],
      "metadata": {
        "id": "k4iR0AhP_mMl"
      },
      "execution_count": null,
      "outputs": []
    },
    {
      "cell_type": "markdown",
      "source": [
        "## Low to high sweep"
      ],
      "metadata": {
        "id": "IXvo5J5wJVNh"
      }
    },
    {
      "cell_type": "code",
      "source": [
        "freqs, Z = preprocessing.readZPlot('LiTao3_ltoh.z')\n",
        "freqs, Z = np.delete(freqs, 28), np.delete(Z, 28) # remove 1 noise point (argmin(Z.imag))\n",
        "\n",
        "circuit = 'p(R0-W0,C0)'\n",
        "init = [10**6, 10**-7, 10**-8]\n",
        "\n",
        "circuit = CustomCircuit(circuit, initial_guess=init)\n",
        "circuit.fit(freqs, Z)\n",
        "Z_fit = circuit.predict(freqs)\n",
        "\n",
        "plt.plot(Z.real, -Z.imag, 'o')\n",
        "plt.plot(Z_fit.real, -Z_fit.imag, '.')\n",
        "plt.ylabel('Imaginary')\n",
        "plt.xlabel('Real')\n",
        "plt.title('Nyquist')\n",
        "plt.show()\n",
        "\n",
        "plt.plot(freqs, -Z.imag, 'o')\n",
        "plt.plot(freqs, -Z_fit.imag, '.')\n",
        "plt.ylabel('Im(Z)')\n",
        "plt.xlabel('freq')\n",
        "plt.title('Bode')\n",
        "plt.show()\n",
        "\n",
        "plt.plot(freqs, Z.real, 'o')\n",
        "plt.plot(freqs, Z_fit.real, '.')\n",
        "plt.ylabel('Re(Z)')\n",
        "plt.xlabel('freq')\n",
        "plt.title('Bode')\n",
        "plt.show()"
      ],
      "metadata": {
        "id": "BfYen5Ixseqd"
      },
      "execution_count": null,
      "outputs": []
    },
    {
      "cell_type": "code",
      "source": [
        "print(circuit)"
      ],
      "metadata": {
        "id": "cBb2PKx8AjTb"
      },
      "execution_count": null,
      "outputs": []
    },
    {
      "cell_type": "markdown",
      "source": [
        "# Add resistors for ionic (gets warburg), electronic in parallel"
      ],
      "metadata": {
        "id": "Xw_KOU2Zoqeg"
      }
    },
    {
      "cell_type": "markdown",
      "source": [
        "![image.png](data:image/png;base64,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)"
      ],
      "metadata": {
        "id": "IEiDfFlDKFAR"
      }
    },
    {
      "cell_type": "code",
      "source": [
        "freqs, Z = preprocessing.readZPlot('LiTao3_ltoh.z')\n",
        "freqs, Z = np.delete(freqs, 28), np.delete(Z, 28) # remove 1 noise point (argmin(Z.imag))\n",
        "\n",
        "circuit = 'p(p(R0-W0,R1),C0)'\n",
        "init = [10**6, 10**4, 10**9, 10**-12]\n",
        "\n",
        "circuit = CustomCircuit(circuit, initial_guess=init)\n",
        "circuit.fit(freqs, Z)\n",
        "Z_fit = circuit.predict(freqs)\n",
        "\n",
        "plt.plot(Z.real, -Z.imag, 'o')\n",
        "plt.plot(Z_fit.real, -Z_fit.imag, '.')\n",
        "plt.ylabel('Imaginary')\n",
        "plt.xlabel('Real')\n",
        "plt.title('Nyquist')\n",
        "plt.show()\n",
        "\n",
        "plt.plot(freqs, -Z.imag, 'o')\n",
        "plt.plot(freqs, -Z_fit.imag, '.')\n",
        "plt.ylabel('Im(Z)')\n",
        "plt.xlabel('freq')\n",
        "plt.title('Bode')\n",
        "plt.show()\n",
        "\n",
        "plt.plot(freqs, Z.real, 'o')\n",
        "plt.plot(freqs, Z_fit.real, '.')\n",
        "plt.ylabel('Re(Z)')\n",
        "plt.xlabel('freq')\n",
        "plt.title('Bode')\n",
        "plt.show()"
      ],
      "metadata": {
        "id": "YPCQFaj4lpj-"
      },
      "execution_count": null,
      "outputs": []
    },
    {
      "cell_type": "code",
      "source": [
        "print(circuit)"
      ],
      "metadata": {
        "id": "pR1wPkEXmw58"
      },
      "execution_count": null,
      "outputs": []
    },
    {
      "cell_type": "markdown",
      "source": [
        "# Make depressed semicircle\n",
        "Problem: least squares tends to decrease CPE $n$ too much."
      ],
      "metadata": {
        "id": "tfzheEtsohee"
      }
    },
    {
      "cell_type": "code",
      "source": [
        "freqs, Z = preprocessing.readZPlot('LiTao3_ltoh.z')\n",
        "freqs, Z = np.delete(freqs, 28), np.delete(Z, 28) # remove 1 noise point (argmin(Z.imag))\n",
        "\n",
        "circuit = 'p(p(R0-W0,R1),CPE0)'\n",
        "init = [1.24*10**6, 2.45*10**5, 3.25*10**7, 6.65*10**-1, 1]\n",
        "\n",
        "circuit = CustomCircuit(circuit, initial_guess=init)\n",
        "circuit.fit(freqs, Z, verbose=True)\n",
        "Z_fit = circuit.predict(freqs)\n",
        "\n",
        "plt.plot(Z.real, -Z.imag, 'o')\n",
        "plt.plot(Z_fit.real, -Z_fit.imag, '.')\n",
        "plt.ylabel('Imaginary')\n",
        "plt.xlabel('Real')\n",
        "plt.title('Nyquist')\n",
        "plt.show()\n",
        "\n",
        "plt.plot(freqs, -Z.imag, 'o')\n",
        "plt.plot(freqs, -Z_fit.imag, '.')\n",
        "plt.ylabel('Im(Z)')\n",
        "plt.xlabel('freq')\n",
        "plt.title('Bode')\n",
        "plt.show()"
      ],
      "metadata": {
        "id": "9OdjbP9Xm0M_"
      },
      "execution_count": null,
      "outputs": []
    },
    {
      "cell_type": "markdown",
      "source": [
        "# Constant current polarization\n",
        "\n",
        "A constant current is set to 1µA (measured 0.925-0.95µA). Voltage measured across the sample increases exponentially, from 1.5V to 3.5V.\n",
        "\n",
        "The mixed conductor model (Maier p445-454) tells us\n",
        "$$\n",
        "U=IR_{eon}\\left( 1-\\frac{R_{\\text{eon}}}{R_{\\text{eon}}+R_{\\text{ion}}}\\exp\\left( -\\frac{t}{\\tau} \\right) \\right)\n",
        "$$\n",
        "where\n",
        "$$\n",
        "\\tau=(R_{\\text{eon}}+R_{\\text{ion}})C^{\\delta}.\n",
        "$$\n",
        "\n",
        "Maier explains how the diffusion coefficient $D$ is given by $\\tau$,\n",
        "$$\n",
        "D^{\\delta}=\\frac{4L^2}{\\pi  ^{2}\\tau }.\n",
        "$$\n",
        "\n",
        "We have $\\log(U(\\infty)-U(t))$ linear in $t$ and fit to obtain $\\tau=3.75\\cdot 10^{-4} \\mathrm{\\frac{1}{s}}$. Lower bounding $L\\geq 1\\cdot 10^{-3}\\text{ m}$, we find\n",
        "$$\n",
        "D^{\\delta}\\geq 1\\cdot 10^{-3} \\mathrm{\\frac{m^{2}}{s}}.\n",
        "$$\n",
        "This is huge! Let's bug shoot. The most pertinent bug lies in assuming homogeneous lateral planes when we introduce $L$."
      ],
      "metadata": {
        "id": "qGolVz7vZf5D"
      }
    },
    {
      "cell_type": "code",
      "source": [
        "prep_csv('polarization.csv')"
      ],
      "metadata": {
        "id": "xUNvNw1tZ19z"
      },
      "execution_count": null,
      "outputs": []
    },
    {
      "cell_type": "code",
      "source": [
        "df = pd.read_csv('polarization.csv')"
      ],
      "metadata": {
        "id": "WghYEuX0nPHM"
      },
      "execution_count": null,
      "outputs": []
    },
    {
      "cell_type": "code",
      "source": [
        "df"
      ],
      "metadata": {
        "id": "2wNeOm0Pc8Cu"
      },
      "execution_count": null,
      "outputs": []
    },
    {
      "cell_type": "code",
      "source": [
        "# Time (s)\n",
        "T = df['Relative Time']\n",
        "\n",
        "# Current (mA)\n",
        "I = df['Value'] * 1e9\n",
        "\n",
        "# Potential (mV)\n",
        "V = df['Reading'] * 1e3"
      ],
      "metadata": {
        "id": "GUp0oPlKax_I"
      },
      "execution_count": null,
      "outputs": []
    },
    {
      "cell_type": "code",
      "source": [
        "plt.plot(T, I)\n",
        "plt.ylabel('Current (nA)')\n",
        "plt.xlabel('Time (s)')\n",
        "plt.xlim(100)\n",
        "plt.ylim(800)"
      ],
      "metadata": {
        "id": "IxEeiRonc15b"
      },
      "execution_count": null,
      "outputs": []
    },
    {
      "cell_type": "code",
      "source": [
        "df_new = df[['Relative Time', 'Value', 'Reading']]\n",
        "df_new.loc[:, 'Reading'] = df_new['Reading'] * 1e9\n",
        "df_new.loc[:, 'Value'] = df_new['Value'] * 100\n",
        "df_new.rename(columns={'Reading': 'Current (nA)', 'Value': 'Vds (1e-2 V)'}, inplace=True)"
      ],
      "metadata": {
        "id": "6h-laBTBZ6jB"
      },
      "execution_count": null,
      "outputs": []
    },
    {
      "cell_type": "code",
      "source": [
        "fig = px.scatter(df, x=\"Relative Time\", y=[\"Reading\"])\n",
        "fig.show()\n"
      ],
      "metadata": {
        "id": "Siu9zFWVaAJ9"
      },
      "execution_count": null,
      "outputs": []
    },
    {
      "cell_type": "code",
      "source": [
        "c1 = 1000\n",
        "plt.plot(T[c1:],np.log(V[len(T)-1] * np.ones_like(T) - V)[c1:])\n",
        "plt.xlim(0,4000)\n",
        "plt.ylim(4,7)\n",
        "plt.xlabel('Time (s)')"
      ],
      "metadata": {
        "id": "Ikr_1hnJaTZ3"
      },
      "execution_count": null,
      "outputs": []
    },
    {
      "cell_type": "code",
      "source": [
        "-1.5/4000"
      ],
      "metadata": {
        "id": "Z1CItybFjGhQ"
      },
      "execution_count": null,
      "outputs": []
    },
    {
      "cell_type": "code",
      "source": [],
      "metadata": {
        "id": "wGbYeGLApe9X"
      },
      "execution_count": null,
      "outputs": []
    }
  ]
}