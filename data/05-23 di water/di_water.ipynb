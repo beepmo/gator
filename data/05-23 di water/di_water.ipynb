{
  "nbformat": 4,
  "nbformat_minor": 0,
  "metadata": {
    "colab": {
      "provenance": [],
      "include_colab_link": true
    },
    "kernelspec": {
      "name": "python3",
      "display_name": "Python 3"
    },
    "language_info": {
      "name": "python"
    }
  },
  "cells": [
    {
      "cell_type": "markdown",
      "metadata": {
        "id": "view-in-github",
        "colab_type": "text"
      },
      "source": [
        "<a href=\"https://colab.research.google.com/github/beepmo/gator/blob/main/data/05-23%20di%20water/di_water.ipynb\" target=\"_parent\"><img src=\"https://colab.research.google.com/assets/colab-badge.svg\" alt=\"Open In Colab\"/></a>"
      ]
    },
    {
      "cell_type": "code",
      "execution_count": 7,
      "metadata": {
        "id": "AWBYGcHySy7l"
      },
      "outputs": [],
      "source": [
        "import numpy as np\n",
        "import pandas as pd\n",
        "from matplotlib import pyplot as plt\n",
        "from google.colab import userdata\n"
      ]
    },
    {
      "cell_type": "markdown",
      "source": [
        "# 1. Set up project in runtime\n",
        "Create colab secrets for the following credentials for the repo to get runtime files and clone repo"
      ],
      "metadata": {
        "id": "almV3l3nTKlB"
      }
    },
    {
      "cell_type": "code",
      "source": [
        "!git config --global user.email {userdata.get('email')}\n",
        "!git config --global user.name {userdata.get('name')}\n",
        "!git clone https://{userdata.get('token')}@github.com/beepmo/gator\n",
        "%pwd"
      ],
      "metadata": {
        "colab": {
          "base_uri": "https://localhost:8080/",
          "height": 176
        },
        "id": "3EcIHq09TH7l",
        "outputId": "ea9a47cd-026c-4458-c249-baa3a762e43d"
      },
      "execution_count": 8,
      "outputs": [
        {
          "output_type": "stream",
          "name": "stdout",
          "text": [
            "Cloning into 'gator'...\n",
            "remote: Enumerating objects: 48, done.\u001b[K\n",
            "remote: Counting objects: 100% (48/48), done.\u001b[K\n",
            "remote: Compressing objects: 100% (39/39), done.\u001b[K\n",
            "remote: Total 48 (delta 17), reused 9 (delta 1), pack-reused 0\u001b[K\n",
            "Receiving objects: 100% (48/48), 170.76 KiB | 1.02 MiB/s, done.\n",
            "Resolving deltas: 100% (17/17), done.\n"
          ]
        },
        {
          "output_type": "execute_result",
          "data": {
            "text/plain": [
              "'/content'"
            ],
            "application/vnd.google.colaboratory.intrinsic+json": {
              "type": "string"
            }
          },
          "metadata": {},
          "execution_count": 8
        }
      ]
    },
    {
      "cell_type": "markdown",
      "source": [
        "# 24-05-22 old sample contact with old LiTFSI || PC\n",
        "\n",
        "SrcV: 30mV\n",
        "MeasI: around 1mA\n",
        "At first contact with liquid, curves smoothen and show bumps.\n",
        "\n",
        "# Base Time\n",
        "05/23/2024 09:57:03.867998320"
      ],
      "metadata": {
        "id": "40yEei_BXarr"
      }
    },
    {
      "cell_type": "code",
      "source": [
        "%cd \"/content/gator/data/05-23 di water\""
      ],
      "metadata": {
        "colab": {
          "base_uri": "https://localhost:8080/"
        },
        "id": "HEBNyHSBaYGJ",
        "outputId": "2e07a404-ca20-4452-f3f4-99443a222115"
      },
      "execution_count": 9,
      "outputs": [
        {
          "output_type": "stream",
          "name": "stdout",
          "text": [
            "/content/gator/data/05-23 di water\n"
          ]
        }
      ]
    },
    {
      "cell_type": "code",
      "source": [
        "df = pd.read_csv('defbuffer1_0523_095921.csv')\n"
      ],
      "metadata": {
        "id": "LehKSIvrXey3"
      },
      "execution_count": 11,
      "outputs": []
    },
    {
      "cell_type": "code",
      "source": [
        "# Time (s)\n",
        "T = df['Relative Time']\n",
        "\n",
        "# Current (mA)\n",
        "I = df['Reading'] * 1e3\n",
        "\n",
        "# Potential (mV)\n",
        "V = df['Value'] * 1e3"
      ],
      "metadata": {
        "id": "RLth_hAFacpu"
      },
      "execution_count": 12,
      "outputs": []
    },
    {
      "cell_type": "code",
      "source": [
        "cut1 = 0\n",
        "cut2 = len(V)\n",
        "plt.plot(V[cut1:cut2],I[cut1:cut2],'.')\n",
        "plt.ylabel('Current (nA)')\n",
        "plt.xlabel('Potential (s)')"
      ],
      "metadata": {
        "colab": {
          "base_uri": "https://localhost:8080/",
          "height": 486
        },
        "id": "IUjaHSqafaRz",
        "outputId": "4ccf320b-705e-459d-82d4-044598de2970"
      },
      "execution_count": 15,
      "outputs": [
        {
          "output_type": "execute_result",
          "data": {
            "text/plain": [
              "Text(0.5, 0, 'Potential (s)')"
            ]
          },
          "metadata": {},
          "execution_count": 15
        },
        {
          "output_type": "display_data",
          "data": {
            "text/plain": [
              "<Figure size 640x480 with 1 Axes>"
            ],
            "image/png": "[encoded data removed]"
          },
          "metadata": {}
        }
      ]
    },
    {
      "cell_type": "code",
      "source": [],
      "metadata": {
        "id": "WR4TlXSNfp5f"
      },
      "execution_count": null,
      "outputs": []
    }
  ]
}