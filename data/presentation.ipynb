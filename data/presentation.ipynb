{
  "nbformat": 4,
  "nbformat_minor": 0,
  "metadata": {
    "colab": {
      "provenance": [],
      "include_colab_link": true
    },
    "kernelspec": {
      "name": "python3",
      "display_name": "Python 3"
    },
    "language_info": {
      "name": "python"
    }
  },
  "cells": [
    {
      "cell_type": "markdown",
      "metadata": {
        "id": "view-in-github",
        "colab_type": "text"
      },
      "source": [
        "<a href=\"https://colab.research.google.com/github/beepmo/gator/blob/main/data/presentation.ipynb\" target=\"_parent\"><img src=\"https://colab.research.google.com/assets/colab-badge.svg\" alt=\"Open In Colab\"/></a>"
      ]
    },
    {
      "cell_type": "code",
      "source": [
        "!pip install impedance -q"
      ],
      "metadata": {
        "id": "DFr-ohnhiNVH",
        "outputId": "42dcd0b3-8639-4969-b749-04b02a1995a7",
        "colab": {
          "base_uri": "https://localhost:8080/"
        }
      },
      "execution_count": 1,
      "outputs": [
        {
          "output_type": "stream",
          "name": "stdout",
          "text": [
            "\u001b[?25l   \u001b[90m━━━━━━━━━━━━━━━━━━━━━━━━━━━━━━━━━━━━━━━━\u001b[0m \u001b[32m0.0/48.4 kB\u001b[0m \u001b[31m?\u001b[0m eta \u001b[36m-:--:--\u001b[0m\r\u001b[2K   \u001b[91m━━━━━━━━━━━━━━━━━━━━━━━━━━━━━━━━━\u001b[0m\u001b[91m╸\u001b[0m\u001b[90m━━━━━━\u001b[0m \u001b[32m41.0/48.4 kB\u001b[0m \u001b[31m1.4 MB/s\u001b[0m eta \u001b[36m0:00:01\u001b[0m\r\u001b[2K   \u001b[90m━━━━━━━━━━━━━━━━━━━━━━━━━━━━━━━━━━━━━━━━\u001b[0m \u001b[32m48.4/48.4 kB\u001b[0m \u001b[31m795.1 kB/s\u001b[0m eta \u001b[36m0:00:00\u001b[0m\n",
            "\u001b[?25h"
          ]
        }
      ]
    },
    {
      "cell_type": "code",
      "execution_count": 37,
      "metadata": {
        "id": "AWBYGcHySy7l"
      },
      "outputs": [],
      "source": [
        "import numpy as np\n",
        "import pandas as pd\n",
        "from matplotlib import pyplot as plt\n",
        "from google.colab import userdata\n",
        "import plotly.express as px\n",
        "from impedance import preprocessing\n",
        "from impedance.models.circuits import CustomCircuit\n",
        "from google.colab import files\n"
      ]
    },
    {
      "cell_type": "markdown",
      "source": [
        "# 1. Set up project in runtime\n",
        "Create colab secrets for the following credentials for the repo to get runtime files and clone repo"
      ],
      "metadata": {
        "id": "almV3l3nTKlB"
      }
    },
    {
      "cell_type": "code",
      "source": [
        "!git config --global user.email {userdata.get('email')}\n",
        "!git config --global user.name {userdata.get('name')}\n",
        "!git clone https://{userdata.get('token')}@github.com/beepmo/gator\n",
        "%pwd"
      ],
      "metadata": {
        "colab": {
          "base_uri": "https://localhost:8080/",
          "height": 174
        },
        "id": "3EcIHq09TH7l",
        "outputId": "a3047a67-1e1f-4bc0-f24e-8b7f804b7f7d"
      },
      "execution_count": 3,
      "outputs": [
        {
          "output_type": "stream",
          "name": "stdout",
          "text": [
            "Cloning into 'gator'...\n",
            "remote: Enumerating objects: 1630, done.\u001b[K\n",
            "remote: Counting objects: 100% (219/219), done.\u001b[K\n",
            "remote: Compressing objects: 100% (201/201), done.\u001b[K\n",
            "remote: Total 1630 (delta 143), reused 17 (delta 17), pack-reused 1411 (from 1)\u001b[K\n",
            "Receiving objects: 100% (1630/1630), 112.66 MiB | 8.80 MiB/s, done.\n",
            "Resolving deltas: 100% (965/965), done.\n",
            "Updating files: 100% (196/196), done.\n"
          ]
        },
        {
          "output_type": "execute_result",
          "data": {
            "text/plain": [
              "'/content'"
            ],
            "application/vnd.google.colaboratory.intrinsic+json": {
              "type": "string"
            }
          },
          "metadata": {},
          "execution_count": 3
        }
      ]
    },
    {
      "cell_type": "code",
      "source": [
        "%cd \"/content/gator/data/\""
      ],
      "metadata": {
        "colab": {
          "base_uri": "https://localhost:8080/"
        },
        "id": "HEBNyHSBaYGJ",
        "outputId": "6a57cbd3-206a-47d9-85cb-87f2eef48315"
      },
      "execution_count": 11,
      "outputs": [
        {
          "output_type": "stream",
          "name": "stdout",
          "text": [
            "/content/gator/data\n"
          ]
        }
      ]
    },
    {
      "cell_type": "markdown",
      "source": [
        "### Blue sample : High to low"
      ],
      "metadata": {
        "id": "73Sn9kpAh39B"
      }
    },
    {
      "cell_type": "code",
      "source": [
        "def nyquist_and_fit(filename):\n",
        "  freqs, Z = preprocessing.readZPlot(filename)\n",
        "\n",
        "  circuit = 'p(R0-W0,C0)'\n",
        "  init = [10**6, 10**-7, 10**-8]\n",
        "\n",
        "  circuit = CustomCircuit(circuit, initial_guess=init)\n",
        "  circuit.fit(freqs, Z)\n",
        "  Z_fit = circuit.predict(freqs)\n",
        "\n",
        "  data = plt.plot(Z.real, -Z.imag, '.')\n",
        "  plt.plot(Z_fit.real, -Z_fit.imag, '-', color=data[0].get_color())\n",
        "\n",
        "  print(circuit)"
      ],
      "metadata": {
        "id": "_uJcNPtNLEhA"
      },
      "execution_count": 33,
      "outputs": []
    },
    {
      "cell_type": "code",
      "source": [
        "%cd \"/content/gator/data/\"\n",
        "nyquist_and_fit('06-20/LiTao3_htol.z')\n",
        "nyquist_and_fit('06-24/LiTao3_Blue.z')\n",
        "nyquist_and_fit('06-24/LiTao3_Blackltoh.z')\n",
        "nyquist_and_fit('07-30/GY1_htol.z')\n",
        "plt.ylim(0)\n",
        "plt.xlim(0)\n",
        "plt.ylabel('$\\mathrm{Im}\\{ Z \\} \\;(\\Omega)$')\n",
        "plt.xlabel('$\\mathrm{Re}\\{ Z \\} \\;(\\Omega)$')\n",
        "\n",
        "plt.savefig('eis_big.svg')\n",
        "files.download('eis_big.svg')"
      ],
      "metadata": {
        "id": "bShXioNMLYFo",
        "outputId": "41707c3b-04c1-4030-9b77-7a8b77ac7ddb",
        "colab": {
          "base_uri": "https://localhost:8080/",
          "height": 1000
        }
      },
      "execution_count": 39,
      "outputs": [
        {
          "output_type": "stream",
          "name": "stdout",
          "text": [
            "/content/gator/data\n",
            "\n",
            "Circuit string: p(R0-W0,C0)\n",
            "Fit: True\n",
            "\n",
            "Initial guesses:\n",
            "     R0 = 1.00e+06 [Ohm]\n",
            "     W0 = 1.00e-07 [Ohm sec^-1/2]\n",
            "     C0 = 1.00e-08 [F]\n",
            "\n",
            "Fit parameters:\n",
            "     R0 = 1.15e+06  (+/- 6.90e-24) [Ohm]\n",
            "     W0 = 2.45e+05  (+/- 1.56e-24) [Ohm sec^-1/2]\n",
            "     C0 = 5.62e-12  (+/- 3.34e-10) [F]\n",
            "\n",
            "\n",
            "Circuit string: p(R0-W0,C0)\n",
            "Fit: True\n",
            "\n",
            "Initial guesses:\n",
            "     R0 = 1.00e+06 [Ohm]\n",
            "     W0 = 1.00e-07 [Ohm sec^-1/2]\n",
            "     C0 = 1.00e-08 [F]\n",
            "\n",
            "Fit parameters:\n",
            "     R0 = 1.19e+07  (+/- 1.04e-24) [Ohm]\n",
            "     W0 = 5.44e+06  (+/- 3.15e-25) [Ohm sec^-1/2]\n",
            "     C0 = 1.86e-11  (+/- 7.09e-10) [F]\n",
            "\n",
            "\n",
            "Circuit string: p(R0-W0,C0)\n",
            "Fit: True\n",
            "\n",
            "Initial guesses:\n",
            "     R0 = 1.00e+06 [Ohm]\n",
            "     W0 = 1.00e-07 [Ohm sec^-1/2]\n",
            "     C0 = 1.00e-08 [F]\n",
            "\n",
            "Fit parameters:\n",
            "     R0 = 9.69e+06  (+/- 1.47e-24) [Ohm]\n",
            "     W0 = 4.24e+06  (+/- 5.13e-25) [Ohm sec^-1/2]\n",
            "     C0 = 2.98e-11  (+/- 7.69e-10) [F]\n",
            "\n",
            "\n",
            "Circuit string: p(R0-W0,C0)\n",
            "Fit: True\n",
            "\n",
            "Initial guesses:\n",
            "     R0 = 1.00e+06 [Ohm]\n",
            "     W0 = 1.00e-07 [Ohm sec^-1/2]\n",
            "     C0 = 1.00e-08 [F]\n",
            "\n",
            "Fit parameters:\n",
            "     R0 = 6.54e+06  (+/- 2.32e-24) [Ohm]\n",
            "     W0 = 6.24e+06  (+/- 7.87e-25) [Ohm sec^-1/2]\n",
            "     C0 = 5.07e-11  (+/- 8.86e-10) [F]\n",
            "\n"
          ]
        },
        {
          "output_type": "display_data",
          "data": {
            "text/plain": [
              "<IPython.core.display.Javascript object>"
            ],
            "application/javascript": [
              "\n",
              "    async function download(id, filename, size) {\n",
              "      if (!google.colab.kernel.accessAllowed) {\n",
              "        return;\n",
              "      }\n",
              "      const div = document.createElement('div');\n",
              "      const label = document.createElement('label');\n",
              "      label.textContent = `Downloading \"${filename}\": `;\n",
              "      div.appendChild(label);\n",
              "      const progress = document.createElement('progress');\n",
              "      progress.max = size;\n",
              "      div.appendChild(progress);\n",
              "      document.body.appendChild(div);\n",
              "\n",
              "      const buffers = [];\n",
              "      let downloaded = 0;\n",
              "\n",
              "      const channel = await google.colab.kernel.comms.open(id);\n",
              "      // Send a message to notify the kernel that we're ready.\n",
              "      channel.send({})\n",
              "\n",
              "      for await (const message of channel.messages) {\n",
              "        // Send a message to notify the kernel that we're ready.\n",
              "        channel.send({})\n",
              "        if (message.buffers) {\n",
              "          for (const buffer of message.buffers) {\n",
              "            buffers.push(buffer);\n",
              "            downloaded += buffer.byteLength;\n",
              "            progress.value = downloaded;\n",
              "          }\n",
              "        }\n",
              "      }\n",
              "      const blob = new Blob(buffers, {type: 'application/binary'});\n",
              "      const a = document.createElement('a');\n",
              "      a.href = window.URL.createObjectURL(blob);\n",
              "      a.download = filename;\n",
              "      div.appendChild(a);\n",
              "      a.click();\n",
              "      div.remove();\n",
              "    }\n",
              "  "
            ]
          },
          "metadata": {}
        },
        {
          "output_type": "display_data",
          "data": {
            "text/plain": [
              "<IPython.core.display.Javascript object>"
            ],
            "application/javascript": [
              "download(\"download_7ca03ba1-4949-4348-8b35-9e3d4f8e06ab\", \"eis_big.svg\", 55543)"
            ]
          },
          "metadata": {}
        },
        {
          "output_type": "display_data",
          "data": {
            "text/plain": [
              "<Figure size 640x480 with 1 Axes>"
            ],
            "image/png": "[encoded data removed]"
          },
          "metadata": {}
        }
      ]
    },
    {
      "cell_type": "code",
      "source": [
        "plt.figure(figsize=(6,3))\n",
        "plt.ticklabel_format(style='sci', axis='y', scilimits=(0,0))\n",
        "nyquist_and_fit('06-20/LiTao3_htol.z')\n",
        "plt.ylim(0,0.8e6)\n",
        "plt.xlim(0,1.5e6)\n",
        "plt.savefig('eis_inset.svg')\n",
        "files.download('eis_inset.svg')\n"
      ],
      "metadata": {
        "id": "-G3q-7GKQCHM",
        "outputId": "ce8bf83d-6dcb-423c-92d1-f3efa0ab7d62",
        "colab": {
          "base_uri": "https://localhost:8080/",
          "height": 568
        }
      },
      "execution_count": 38,
      "outputs": [
        {
          "output_type": "stream",
          "name": "stdout",
          "text": [
            "\n",
            "Circuit string: p(R0-W0,C0)\n",
            "Fit: True\n",
            "\n",
            "Initial guesses:\n",
            "     R0 = 1.00e+06 [Ohm]\n",
            "     W0 = 1.00e-07 [Ohm sec^-1/2]\n",
            "     C0 = 1.00e-08 [F]\n",
            "\n",
            "Fit parameters:\n",
            "     R0 = 1.15e+06  (+/- 6.90e-24) [Ohm]\n",
            "     W0 = 2.45e+05  (+/- 1.56e-24) [Ohm sec^-1/2]\n",
            "     C0 = 5.62e-12  (+/- 3.34e-10) [F]\n",
            "\n"
          ]
        },
        {
          "output_type": "display_data",
          "data": {
            "text/plain": [
              "<IPython.core.display.Javascript object>"
            ],
            "application/javascript": [
              "\n",
              "    async function download(id, filename, size) {\n",
              "      if (!google.colab.kernel.accessAllowed) {\n",
              "        return;\n",
              "      }\n",
              "      const div = document.createElement('div');\n",
              "      const label = document.createElement('label');\n",
              "      label.textContent = `Downloading \"${filename}\": `;\n",
              "      div.appendChild(label);\n",
              "      const progress = document.createElement('progress');\n",
              "      progress.max = size;\n",
              "      div.appendChild(progress);\n",
              "      document.body.appendChild(div);\n",
              "\n",
              "      const buffers = [];\n",
              "      let downloaded = 0;\n",
              "\n",
              "      const channel = await google.colab.kernel.comms.open(id);\n",
              "      // Send a message to notify the kernel that we're ready.\n",
              "      channel.send({})\n",
              "\n",
              "      for await (const message of channel.messages) {\n",
              "        // Send a message to notify the kernel that we're ready.\n",
              "        channel.send({})\n",
              "        if (message.buffers) {\n",
              "          for (const buffer of message.buffers) {\n",
              "            buffers.push(buffer);\n",
              "            downloaded += buffer.byteLength;\n",
              "            progress.value = downloaded;\n",
              "          }\n",
              "        }\n",
              "      }\n",
              "      const blob = new Blob(buffers, {type: 'application/binary'});\n",
              "      const a = document.createElement('a');\n",
              "      a.href = window.URL.createObjectURL(blob);\n",
              "      a.download = filename;\n",
              "      div.appendChild(a);\n",
              "      a.click();\n",
              "      div.remove();\n",
              "    }\n",
              "  "
            ]
          },
          "metadata": {}
        },
        {
          "output_type": "display_data",
          "data": {
            "text/plain": [
              "<IPython.core.display.Javascript object>"
            ],
            "application/javascript": [
              "download(\"download_f1c4caff-6059-4b5c-9898-73f0d93c420d\", \"eis_inset.svg\", 23760)"
            ]
          },
          "metadata": {}
        },
        {
          "output_type": "display_data",
          "data": {
            "text/plain": [
              "<Figure size 600x300 with 1 Axes>"
            ],
            "image/png": "[encoded data removed]"
          },
          "metadata": {}
        }
      ]
    },
    {
      "cell_type": "code",
      "source": [],
      "metadata": {
        "id": "oUc97lRYdlmE"
      },
      "execution_count": null,
      "outputs": []
    }
  ]
}